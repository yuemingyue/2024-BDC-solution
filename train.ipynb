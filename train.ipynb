{
 "cells": [
  {
   "cell_type": "code",
   "execution_count": null,
   "id": "initial_id",
   "metadata": {
    "collapsed": true
   },
   "outputs": [],
   "source": [
    "#预测itrans的温度24步长\n",
    "!python my_code/test_itrans_24/pre_temp.py"
   ]
  },
  {
   "cell_type": "code",
   "execution_count": null,
   "outputs": [],
   "source": [
    "#预测itrans的风速24步长\n",
    "!python my_code/test_itrans_24/pre_wind.py"
   ],
   "metadata": {
    "collapsed": false
   },
   "id": "15f482c9f3cb5348"
  },
  {
   "cell_type": "code",
   "execution_count": null,
   "outputs": [],
   "source": [
    "#预测带注意力机制的itrans的风速24步长\n",
    "!python my_code/test_itrans_24/pre_wind_attn.py"
   ],
   "metadata": {
    "collapsed": false
   },
   "id": "f6a9b38dde90b2d"
  },
  {
   "cell_type": "code",
   "execution_count": null,
   "outputs": [],
   "source": [
    "#预测itrans的温度48步长\n",
    "!python my_code/test_itrans_48/pre_temp.py"
   ],
   "metadata": {
    "collapsed": false
   },
   "id": "805306e23ab49872"
  },
  {
   "cell_type": "code",
   "execution_count": null,
   "outputs": [],
   "source": [
    "#预测itrans的风速48步长\n",
    "!python my_code/test_itrans_48/pre_wind.py"
   ],
   "metadata": {
    "collapsed": false
   },
   "id": "c0162d5c8d28f34"
  },
  {
   "cell_type": "code",
   "execution_count": null,
   "outputs": [],
   "source": [
    "#预测itrans1的温度72步长\n",
    "!python my_code/test_itrans_72_1/pre_temp.py"
   ],
   "metadata": {
    "collapsed": false
   },
   "id": "2f80bd120333ad27"
  },
  {
   "cell_type": "code",
   "execution_count": null,
   "outputs": [],
   "source": [
    "#预测itrans1的风速72步长\n",
    "!python my_code/test_itrans_72_1/pre_wind.py"
   ],
   "metadata": {
    "collapsed": false
   },
   "id": "1e89bef375775053"
  },
  {
   "cell_type": "code",
   "execution_count": null,
   "outputs": [],
   "source": [
    "#预测itrans2的温度72步长\n",
    "!python my_code/test_itrans_72_2/pre_temp.py"
   ],
   "metadata": {
    "collapsed": false
   },
   "id": "e4c872996677a4dd"
  },
  {
   "cell_type": "code",
   "execution_count": null,
   "outputs": [],
   "source": [
    "#预测itrans2的风速72步长\n",
    "!python my_code/test_itrans_72_2/pre_wind.py"
   ],
   "metadata": {
    "collapsed": false
   },
   "id": "20b64f7a3595b00e"
  },
  {
   "cell_type": "code",
   "execution_count": null,
   "outputs": [],
   "source": [],
   "metadata": {
    "collapsed": false
   },
   "id": "31a4af750d8d1364"
  },
  {
   "cell_type": "code",
   "execution_count": null,
   "outputs": [],
   "source": [
    "#预测softs的温度24步长\n",
    "!python my_code/test_softs_24/train_temp.py"
   ],
   "metadata": {
    "collapsed": false
   },
   "id": "c6781a9f565baf8d"
  },
  {
   "cell_type": "code",
   "execution_count": null,
   "outputs": [],
   "source": [
    "#预测softs的风速24步长\n",
    "!python my_code/test_softs_24/train_wind.py"
   ],
   "metadata": {
    "collapsed": false
   },
   "id": "29220d1de2781f65"
  },
  {
   "cell_type": "code",
   "execution_count": null,
   "outputs": [],
   "source": [
    "#预测softs的温度48步长\n",
    "!python my_code/test_softs_48/train_temp.py"
   ],
   "metadata": {
    "collapsed": false
   },
   "id": "5b730f5375958396"
  },
  {
   "cell_type": "code",
   "execution_count": null,
   "outputs": [],
   "source": [
    "#预测softs的风速48步长\n",
    "!python my_code/test_softs_48/train_wind.py"
   ],
   "metadata": {
    "collapsed": false
   },
   "id": "8240e9307ca2e2bb"
  },
  {
   "cell_type": "code",
   "execution_count": null,
   "outputs": [],
   "source": [
    "#预测softs的温度72步长\n",
    "!python my_code/test_softs_72/train_temp.py"
   ],
   "metadata": {
    "collapsed": false
   },
   "id": "686c40c5c42347d1"
  },
  {
   "cell_type": "code",
   "execution_count": null,
   "outputs": [],
   "source": [
    "#预测softs的风速72步长\n",
    "!python my_code/test_softs_72/train_wind.py"
   ],
   "metadata": {
    "collapsed": false
   },
   "id": "20605ed2a8f97f25"
  },
  {
   "cell_type": "code",
   "execution_count": null,
   "outputs": [],
   "source": [],
   "metadata": {
    "collapsed": false
   },
   "id": "91f04a23fe9a1f50"
  },
  {
   "cell_type": "code",
   "execution_count": null,
   "outputs": [],
   "source": [
    "# 测试\n",
    "!python index.py"
   ],
   "metadata": {
    "collapsed": false
   },
   "id": "f9ed6c8ba1b012c"
  }
 ],
 "metadata": {
  "kernelspec": {
   "display_name": "Python 3",
   "language": "python",
   "name": "python3"
  },
  "language_info": {
   "codemirror_mode": {
    "name": "ipython",
    "version": 2
   },
   "file_extension": ".py",
   "mimetype": "text/x-python",
   "name": "python",
   "nbconvert_exporter": "python",
   "pygments_lexer": "ipython2",
   "version": "2.7.6"
  }
 },
 "nbformat": 4,
 "nbformat_minor": 5
}
